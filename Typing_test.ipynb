{
  "nbformat": 4,
  "nbformat_minor": 0,
  "metadata": {
    "colab": {
      "name": "Typing test",
      "provenance": [],
      "collapsed_sections": [],
      "authorship_tag": "ABX9TyOBTI+6Kpuj3SPV/Oi3WNyr",
      "include_colab_link": true
    },
    "kernelspec": {
      "name": "python3",
      "display_name": "Python 3"
    },
    "language_info": {
      "name": "python"
    }
  },
  "cells": [
    {
      "cell_type": "markdown",
      "metadata": {
        "id": "view-in-github",
        "colab_type": "text"
      },
      "source": [
        "<a href=\"https://colab.research.google.com/github/awchisholm/typingtest/blob/master/Typing_test.ipynb\" target=\"_parent\"><img src=\"https://colab.research.google.com/assets/colab-badge.svg\" alt=\"Open In Colab\"/></a>"
      ]
    },
    {
      "cell_type": "code",
      "metadata": {
        "id": "4yv32inNYd-2"
      },
      "source": [
        "#@title Download a book\n",
        "# This downloads a book\n",
        "import requests\n",
        "example_txt = 'https://gutenberg.org/files/1661/1661-0.txt'\n",
        "book = requests.get(example_txt)\n",
        "with open('/content/book.txt', 'wb') as f:\n",
        "    f.write(book.content)\n"
      ],
      "execution_count": 1,
      "outputs": []
    },
    {
      "cell_type": "code",
      "metadata": {
        "id": "QcMDIzt_YgRC"
      },
      "source": [
        "#@title Select 5 words somewhere in the text\n",
        "# This chooses 5 words somewhere in the text\n",
        "import random\n",
        "booktext = book.text\n",
        "better_words = booktext.split()\n",
        "allWords = len(better_words)\n",
        "lengthOfSentence = 5\n",
        "startOfSentence = random.randint(1, allWords - lengthOfSentence)\n",
        "sentence = better_words[startOfSentence:startOfSentence+lengthOfSentence]\n",
        "\n",
        "StringToType = ' '.join(sentence)"
      ],
      "execution_count": 5,
      "outputs": []
    },
    {
      "cell_type": "code",
      "metadata": {
        "colab": {
          "base_uri": "https://localhost:8080/"
        },
        "id": "qjs_00K8P26q",
        "outputId": "b8626a6c-2cfb-4acd-9b02-847d9e1e0d3f"
      },
      "source": [
        "#@title Get the user to type these 5 words\n",
        "# This asks the user to type the 5 words\n",
        "# and times it.\n",
        "# The editdistance is how many errors were made\n",
        "# 0 errors is good\n",
        "from time import time\n",
        "import editdistance\n",
        "\n",
        "TypeThis = 'Type this -->'\n",
        "stime = time()\n",
        "FromUser = input(f'{TypeThis} {StringToType} ')\n",
        "etime = time()\n",
        "ElapsedTime = round(etime - stime, 2)\n",
        "edistance = editdistance.eval(FromUser, StringToType)\n",
        "\n",
        "print(f'You made {edistance} errors in {ElapsedTime} seconds')"
      ],
      "execution_count": 6,
      "outputs": [
        {
          "output_type": "stream",
          "name": "stdout",
          "text": [
            "Type this --> brow was all crinkled with brow was all crinkled with\n",
            "You made 0 errors in 6.43 seconds\n"
          ]
        }
      ]
    }
  ]
}