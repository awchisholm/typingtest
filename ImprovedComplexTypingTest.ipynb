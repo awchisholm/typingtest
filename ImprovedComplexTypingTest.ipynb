{
  "nbformat": 4,
  "nbformat_minor": 0,
  "metadata": {
    "colab": {
      "name": "ImprovedComplexTypingTest",
      "provenance": [],
      "collapsed_sections": [],
      "authorship_tag": "ABX9TyOfJxthZTw9OKel7wSMKp83",
      "include_colab_link": true
    },
    "kernelspec": {
      "name": "python3",
      "display_name": "Python 3"
    },
    "language_info": {
      "name": "python"
    }
  },
  "cells": [
    {
      "cell_type": "markdown",
      "metadata": {
        "id": "view-in-github",
        "colab_type": "text"
      },
      "source": [
        "<a href=\"https://colab.research.google.com/github/awchisholm/typingtest/blob/master/ImprovedComplexTypingTest.ipynb\" target=\"_parent\"><img src=\"https://colab.research.google.com/assets/colab-badge.svg\" alt=\"Open In Colab\"/></a>"
      ]
    },
    {
      "cell_type": "code",
      "metadata": {
        "id": "4yv32inNYd-2"
      },
      "source": [
        "booktext = \"\"\" At three o’clock precisely I was at Baker Street, but Holmes had not\n",
        "yet returned. The landlady informed me that he had left the house\n",
        "shortly after eight o’clock in the morning. I sat down beside the fire,\n",
        "however, with the intention of awaiting him, however long he might be.\n",
        "I was already deeply interested in his inquiry, for, though it was\n",
        "surrounded by none of the grim and strange features which were\n",
        "associated with the two crimes which I have already recorded, still,\n",
        "the nature of the case and the exalted station of his client gave it a\n",
        "character of its own. Indeed, apart from the nature of the\n",
        "investigation which my friend had on hand, there was something in his\n",
        "masterly grasp of a situation, and his keen, incisive reasoning, which\n",
        "made it a pleasure to me to study his system of work, and to follow the\n",
        "quick, subtle methods by which he disentangled the most inextricable\n",
        "mysteries. So accustomed was I to his invariable success that the very\n",
        "possibility of his failing had ceased to enter into my head.\"\"\"\n"
      ],
      "execution_count": 7,
      "outputs": []
    },
    {
      "cell_type": "code",
      "metadata": {
        "id": "QcMDIzt_YgRC"
      },
      "source": [
        "#@title Select 5 words somewhere in the text\n",
        "# This chooses 5 words somewhere in the text\n",
        "import random\n",
        "better_words = booktext.split()\n",
        "allWords = len(better_words)\n",
        "lengthOfSentence = 5\n",
        "startOfSentence = random.randint(1, allWords - lengthOfSentence)\n",
        "sentence = better_words[startOfSentence:startOfSentence+lengthOfSentence]\n",
        "\n",
        "StringToType = ' '.join(sentence)"
      ],
      "execution_count": 8,
      "outputs": []
    },
    {
      "cell_type": "code",
      "metadata": {
        "colab": {
          "base_uri": "https://localhost:8080/"
        },
        "id": "qjs_00K8P26q",
        "outputId": "153dcace-e5c8-439f-b94f-bae3a7a79b57"
      },
      "source": [
        "#@title Get the user to type these 5 words\n",
        "# This asks the user to type the 5 words\n",
        "# and times it.\n",
        "# The editdistance is how many errors were made\n",
        "# 0 errors is good\n",
        "from time import time\n",
        "import editdistance\n",
        "\n",
        "TypeThis = 'Type this -->'\n",
        "stime = time()\n",
        "FromUser = input(f'{TypeThis} {StringToType} ')\n",
        "etime = time()\n",
        "ElapsedTime = round(etime - stime, 2)\n",
        "edistance = editdistance.eval(FromUser, StringToType)\n",
        "\n",
        "print(f'You made {edistance} errors in {ElapsedTime} seconds')"
      ],
      "execution_count": 9,
      "outputs": [
        {
          "output_type": "stream",
          "name": "stdout",
          "text": [
            "Type this --> informed me that he had infomred me that he had\n",
            "You made 2 errors in 6.56 seconds\n"
          ]
        }
      ]
    }
  ]
}