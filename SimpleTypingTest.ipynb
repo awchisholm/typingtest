{
  "nbformat": 4,
  "nbformat_minor": 0,
  "metadata": {
    "colab": {
      "name": "SimpleTypingTest",
      "provenance": [],
      "collapsed_sections": [],
      "authorship_tag": "ABX9TyNpeyhpN1i1cJZYUNQ7SJoO",
      "include_colab_link": true
    },
    "kernelspec": {
      "name": "python3",
      "display_name": "Python 3"
    },
    "language_info": {
      "name": "python"
    }
  },
  "cells": [
    {
      "cell_type": "markdown",
      "metadata": {
        "id": "view-in-github",
        "colab_type": "text"
      },
      "source": [
        "<a href=\"https://colab.research.google.com/github/awchisholm/typingtest/blob/master/SimpleTypingTest.ipynb\" target=\"_parent\"><img src=\"https://colab.research.google.com/assets/colab-badge.svg\" alt=\"Open In Colab\"/></a>"
      ]
    },
    {
      "cell_type": "code",
      "execution_count": null,
      "metadata": {
        "id": "nWKNULrYTuiE"
      },
      "outputs": [],
      "source": [
        "from time import time\n",
        "\n",
        "# calculate the accuracy of input prompt - this is a really long comment\n",
        "# that will upset pylint because the line length is too long\n",
        "def typingErrors(prompt_string):\n",
        "    global iwords\n",
        "\n",
        "    _words = prompt_string.split()\n",
        "    _errors = 0\n",
        "\n",
        "    for i in range(len(iwords)):\n",
        "        if i in (0, len(iwords)-1):\n",
        "            if iwords[i] == _words[i]:\n",
        "                continue\n",
        "            else:\n",
        "                _errors +=1\n",
        "        else:\n",
        "            if iwords[i] == _words[i]:\n",
        "                if (iwords[i+1] == _words[i+1]) & (iwords[i-1] == _words[i-1]):\n",
        "                    continue\n",
        "                else:\n",
        "                    _errors += 1\n",
        "            else:\n",
        "                _errors += 1\n",
        "    return _errors\n",
        "\n",
        "# calculate the speed in words per minute\n",
        "def typingSpeed(iprompt, stime, etime):\n",
        "    global time\n",
        "    global iwords\n",
        "\n",
        "    iwords = iprompt.split()\n",
        "    twords = len(iwords)\n",
        "    speed = twords / time\n",
        "\n",
        "    return speed\n",
        "\n",
        "# calculate total time elapsed\n",
        "def timeElapsed(stime, etime):\n",
        "    time = etime - stime\n",
        "\n",
        "    return time\n",
        "\n",
        "if __name__ == '__main__':\n",
        "    prompt = \"Type this quickly\"\n",
        "    print(f\"Type this:- {prompt}\")\n",
        "\n",
        "    # listening to input ENTER\n",
        "    input(\"press ENTER when you are ready!\")\n",
        "\n",
        "    # recording time for input\n",
        "    stime = time()\n",
        "    iprompt = input()\n",
        "    etime = time()\n",
        "\n",
        "    # gather all the information returned from functions\n",
        "    time = round(timeElapsed(stime, etime), 2)\n",
        "    speed = typingSpeed(iprompt, stime, etime)\n",
        "    errors = typingErrors(prompt)\n",
        "\n",
        "    # printing all the required data\n",
        "    print(\"Total Time elapsed : \", time, \"s\")\n",
        "    print(\"Your Average Typing Speed was : \", speed, \"words / minute\")\n",
        "    print(\"With a total of : \", errors, \"errors\")"
      ]
    }
  ]
}