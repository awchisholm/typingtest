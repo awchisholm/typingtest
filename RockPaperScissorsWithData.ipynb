{
  "nbformat": 4,
  "nbformat_minor": 0,
  "metadata": {
    "colab": {
      "name": "RockPaperScissorsWithData",
      "provenance": [],
      "collapsed_sections": [],
      "include_colab_link": true
    },
    "kernelspec": {
      "name": "python3",
      "display_name": "Python 3"
    },
    "language_info": {
      "name": "python"
    }
  },
  "cells": [
    {
      "cell_type": "markdown",
      "metadata": {
        "id": "view-in-github",
        "colab_type": "text"
      },
      "source": [
        "<a href=\"https://colab.research.google.com/github/awchisholm/typingtest/blob/master/RockPaperScissorsWithData.ipynb\" target=\"_parent\"><img src=\"https://colab.research.google.com/assets/colab-badge.svg\" alt=\"Open In Colab\"/></a>"
      ]
    },
    {
      "cell_type": "code",
      "metadata": {
        "id": "qkgjZQm_ydvg"
      },
      "source": [
        "from collections import defaultdict\n",
        "import random\n",
        "choices = ('Rock', 'Paper', 'Scissors', 'Quit ')\n",
        "computer_wins = 'Computer wins'\n",
        "player_wins = 'Player wins'\n",
        "draw = 'Draw'\n",
        "d2_dict = defaultdict(dict)\n",
        "d2_dict[('Player', 'Computer')] = 'Winner'\n",
        "d2_dict[('Rock', 'Paper')] = computer_wins\n",
        "d2_dict[('Rock', 'Scissors')] = player_wins \n",
        "d2_dict[('Rock', 'Rock')] = draw \n",
        "d2_dict[('Paper', 'Scissors')] = computer_wins\n",
        "d2_dict[('Paper', 'Rock')] = player_wins \n",
        "d2_dict[('Paper', 'Paper')] = draw \n",
        "d2_dict[('Scissors', 'Scissors')] = draw \n",
        "d2_dict[('Scissors', 'Rock')] = computer_wins \n",
        "d2_dict[('Scissors', 'Paper')] = player_wins "
      ],
      "execution_count": null,
      "outputs": []
    },
    {
      "cell_type": "code",
      "metadata": {
        "id": "gSxmNhbd1RnC"
      },
      "source": [
        "player_name = input(\"enter name \")\n",
        "computer_name = 'computer'\n",
        "computer_score = 0\n",
        "player_score = 0\n",
        "while True:\n",
        "  choice = input(choices)\n",
        "  if 'Quit' in choice:\n",
        "    break\n",
        "  if choice not in choices:\n",
        "    continue\n",
        "  computer = choices[random.randint(0,2)]\n",
        "  result = d2_dict[(choice, computer)]\n",
        "  if result == computer_wins:\n",
        "    computer_score += 1\n",
        "  if result == player_wins:\n",
        "    player_score += 1\n",
        "  print(\"Player:\", player_name, choice, \"Computer:\", computer_name, computer, result)\n",
        "  print(\"Running totals:\", player_score, computer_score)"
      ],
      "execution_count": null,
      "outputs": []
    }
  ]
}